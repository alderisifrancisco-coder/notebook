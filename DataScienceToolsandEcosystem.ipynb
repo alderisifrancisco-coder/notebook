{
 "cells": [
  {
   "cell_type": "markdown",
   "id": "7247f1e9-1c76-468d-94d3-7f87acde03d9",
   "metadata": {},
   "source": [
    "# Data Science Tools and Ecosystem"
   ]
  },
  {
   "cell_type": "markdown",
   "id": "6fc038d7-0427-4218-834c-228ac4d9e2dd",
   "metadata": {},
   "source": [
    "## In this notebook, Data Science Tools and Ecosystem are summarized."
   ]
  },
  {
   "cell_type": "markdown",
   "id": "623cdbcf-fec8-4ae8-8d14-2ef187f3190c",
   "metadata": {},
   "source": [
    "**Objetives**"
   ]
  },
  {
   "cell_type": "markdown",
   "id": "c97d42a7-4b7a-4548-8bfb-ec78c573d1b8",
   "metadata": {},
   "source": [
    "* List popular languages for Data Science\n",
    "* List commonly libraries for Data Science\n",
    "* Expression arithmetic for Python"
   ]
  },
  {
   "cell_type": "markdown",
   "id": "e1c48bb1-a029-4828-91dc-9340dc926fc6",
   "metadata": {},
   "source": [
    "## Some of the popular languages that Data Scientists use are:\n"
   ]
  },
  {
   "cell_type": "markdown",
   "id": "5653814f-19f5-4964-a7c1-e89947eca5cd",
   "metadata": {},
   "source": [
    "1. R\n",
    "2. Python\n",
    "3. SQL"
   ]
  },
  {
   "cell_type": "markdown",
   "id": "299809f6-1ad0-4e88-8233-74c4604130e1",
   "metadata": {},
   "source": [
    "## Some of the commonly used libraries used by Data Scientists include:"
   ]
  },
  {
   "cell_type": "markdown",
   "id": "2557d03d-fffa-4af3-a883-646167515a7e",
   "metadata": {},
   "source": [
    "1. Pandas\n",
    "2. Numpy\n",
    "3. Matploblib"
   ]
  },
  {
   "cell_type": "markdown",
   "id": "38bb66ac-c64f-42eb-9dcb-841c8750b8b3",
   "metadata": {},
   "source": [
    "| Data Science Tools |\n",
    "|-------------------|\n",
    "| Anaconda |\n",
    "| Google Colab|\n",
    "| Jupiter Lab|"
   ]
  },
  {
   "cell_type": "markdown",
   "id": "66768a65-eb9f-4faf-98af-6211a1ffcaab",
   "metadata": {},
   "source": [
    "### Below are a few examples of evaluating arithmetic expressions in Python.\n",
    "\n"
   ]
  },
  {
   "cell_type": "code",
   "execution_count": 1,
   "id": "366ac885-0c43-4aa7-bea3-14f7f73c2fa7",
   "metadata": {},
   "outputs": [
    {
     "data": {
      "text/plain": [
       "17"
      ]
     },
     "execution_count": 1,
     "metadata": {},
     "output_type": "execute_result"
    }
   ],
   "source": [
    "# This a simple arithmetic expression to mutiply then add integers\n",
    "(3*4)+5"
   ]
  },
  {
   "cell_type": "code",
   "execution_count": 2,
   "id": "7de8cb71-56af-428e-ad97-d13d7d800c95",
   "metadata": {},
   "outputs": [
    {
     "name": "stdout",
     "output_type": "stream",
     "text": [
      "200 minutos equivalen a 3.333333 horas.\n"
     ]
    }
   ],
   "source": [
    "# This will convert 200 minutes to hours by diving by 60\n",
    "total_minutos = 200\n",
    "horas_decimal = total_minutos / 60\n",
    "print(f\"{total_minutos} minutos equivalen a {horas_decimal:2f} horas.\")"
   ]
  },
  {
   "cell_type": "markdown",
   "id": "fcb4b8cd-6f04-4f8a-aa00-d6dda41eab5a",
   "metadata": {},
   "source": [
    "## Author"
   ]
  },
  {
   "cell_type": "markdown",
   "id": "a2b6653c-9150-448c-9aaf-9f6afa59080e",
   "metadata": {},
   "source": [
    "Francisco Alderisi"
   ]
  },
  {
   "cell_type": "code",
   "execution_count": null,
   "id": "30f22d3e-279a-4cd5-bd59-9ce175aa3d85",
   "metadata": {},
   "outputs": [],
   "source": []
  }
 ],
 "metadata": {
  "kernelspec": {
   "display_name": "Python 3 (ipykernel)",
   "language": "python",
   "name": "python3"
  },
  "language_info": {
   "codemirror_mode": {
    "name": "ipython",
    "version": 3
   },
   "file_extension": ".py",
   "mimetype": "text/x-python",
   "name": "python",
   "nbconvert_exporter": "python",
   "pygments_lexer": "ipython3",
   "version": "3.12.8"
  }
 },
 "nbformat": 4,
 "nbformat_minor": 5
}
